{
 "cells": [
  {
   "cell_type": "code",
   "execution_count": 1,
   "metadata": {},
   "outputs": [
    {
     "name": "stderr",
     "output_type": "stream",
     "text": [
      "C:\\Users\\Johan\\Anaconda3\\lib\\site-packages\\statsmodels\\compat\\pandas.py:56: FutureWarning: The pandas.core.datetools module is deprecated and will be removed in a future version. Please use the pandas.tseries module instead.\n",
      "  from pandas.core import datetools\n"
     ]
    }
   ],
   "source": [
    "## Import required modules\n",
    "# %matplotlib allows plots to appear directly in the notebook\n",
    "%matplotlib inline             \n",
    "import numpy as np              # required for basic calculations\n",
    "import pandas as pd             # required for data analysis (reading files)\n",
    "from scipy import stats         # required for statistics\n",
    "from __future__ import division # allows floating number division\n",
    "import matplotlib.pylab as plt  # required for plotting\n",
    "import statsmodels.formula.api as smf  # module to run ordinary least squares analysis\n",
    "from IPython.display import display\n",
    "import pandas as pd\n",
    "import datetime\n",
    "\n",
    "import statsmodels.tsa.stattools as st\n",
    "import statsmodels.graphics.tsaplots as tsaplots # tsaplots.plot_acf"
   ]
  },
  {
   "cell_type": "code",
   "execution_count": 8,
   "metadata": {},
   "outputs": [
    {
     "data": {
      "text/html": [
       "<div>\n",
       "<style scoped>\n",
       "    .dataframe tbody tr th:only-of-type {\n",
       "        vertical-align: middle;\n",
       "    }\n",
       "\n",
       "    .dataframe tbody tr th {\n",
       "        vertical-align: top;\n",
       "    }\n",
       "\n",
       "    .dataframe thead th {\n",
       "        text-align: right;\n",
       "    }\n",
       "</style>\n",
       "<table border=\"1\" class=\"dataframe\">\n",
       "  <thead>\n",
       "    <tr style=\"text-align: right;\">\n",
       "      <th></th>\n",
       "      <th>Tmax</th>\n",
       "      <th>Tmin</th>\n",
       "      <th>date</th>\n",
       "    </tr>\n",
       "    <tr>\n",
       "      <th>Time</th>\n",
       "      <th></th>\n",
       "      <th></th>\n",
       "      <th></th>\n",
       "    </tr>\n",
       "  </thead>\n",
       "  <tbody>\n",
       "    <tr>\n",
       "      <th>1967-01-01</th>\n",
       "      <td>NaN</td>\n",
       "      <td>NaN</td>\n",
       "      <td>1967-01-01</td>\n",
       "    </tr>\n",
       "    <tr>\n",
       "      <th>1967-01-02</th>\n",
       "      <td>NaN</td>\n",
       "      <td>NaN</td>\n",
       "      <td>1967-01-02</td>\n",
       "    </tr>\n",
       "    <tr>\n",
       "      <th>1967-01-03</th>\n",
       "      <td>NaN</td>\n",
       "      <td>NaN</td>\n",
       "      <td>1967-01-03</td>\n",
       "    </tr>\n",
       "    <tr>\n",
       "      <th>1967-01-04</th>\n",
       "      <td>NaN</td>\n",
       "      <td>NaN</td>\n",
       "      <td>1967-01-04</td>\n",
       "    </tr>\n",
       "    <tr>\n",
       "      <th>1967-01-05</th>\n",
       "      <td>NaN</td>\n",
       "      <td>NaN</td>\n",
       "      <td>1967-01-05</td>\n",
       "    </tr>\n",
       "  </tbody>\n",
       "</table>\n",
       "</div>"
      ],
      "text/plain": [
       "            Tmax  Tmin       date\n",
       "Time                             \n",
       "1967-01-01   NaN   NaN 1967-01-01\n",
       "1967-01-02   NaN   NaN 1967-01-02\n",
       "1967-01-03   NaN   NaN 1967-01-03\n",
       "1967-01-04   NaN   NaN 1967-01-04\n",
       "1967-01-05   NaN   NaN 1967-01-05"
      ]
     },
     "execution_count": 8,
     "metadata": {},
     "output_type": "execute_result"
    }
   ],
   "source": [
    "\n",
    "# Read in dataframe\n",
    "prec_rampur = pd.read_csv('Datasets/prec_Rampur.csv',sep=',',index_col = 'Time',na_values=-99.9,parse_dates=True)\n",
    "prec_rampur.head()\n",
    "\n",
    "# Read in dataframe\n",
    "temp_rampur = pd.read_csv('Datasets/temp_Rampur.csv',sep=',',index_col = 'Time',na_values=-99.9,parse_dates=True)\n",
    "temp_rampur['date'] = temp_rampur.index\n",
    "temp_rampur.head()"
   ]
  },
  {
   "cell_type": "markdown",
   "metadata": {},
   "source": [
    "### Data series mean, var, etc.\n",
    "\n",
    "Check for stationarity. (Lecture 12)"
   ]
  },
  {
   "cell_type": "code",
   "execution_count": 3,
   "metadata": {},
   "outputs": [
    {
     "data": {
      "image/png": "[encoded data removed]",
      "text/plain": [
       "<matplotlib.figure.Figure at 0x1e7c71d86a0>"
      ]
     },
     "metadata": {},
     "output_type": "display_data"
    }
   ],
   "source": [
    "# Monthly means + plots for \"first\" and \"second\" period. No real difference in precipitation distribution for the two periods.\n",
    "# Precipitation\n",
    "meanprec_rampur=prec_rampur.groupby(prec_rampur.index.month).mean()\n",
    "#meanprec_rampur.plot(kind='bar',width=0.8,legend=False)\n",
    "#plt.show()\n",
    "\n",
    "meanprec_rampur=prec_rampur['1967':'1989'].groupby(prec_rampur['1967':'1989'].index.month).mean()\n",
    "meanprec_rampur.plot(kind='bar',width=0.8,legend=False)\n",
    "plt.show()\n",
    "\n",
    "meanprec_rampur=prec_rampur['1990':'2011'].groupby(prec_rampur['1990':'2011'].index.month).mean()\n",
    "#meanprec_rampur.plot(kind='bar',width=0.8,legend=False)\n",
    "#plt.show()"
   ]
  },
  {
   "cell_type": "code",
   "execution_count": 13,
   "metadata": {},
   "outputs": [
    {
     "ename": "AttributeError",
     "evalue": "'Int64Index' object has no attribute 'month'",
     "output_type": "error",
     "traceback": [
      "\u001b[1;31m---------------------------------------------------------------------------\u001b[0m",
      "\u001b[1;31mAttributeError\u001b[0m                            Traceback (most recent call last)",
      "\u001b[1;32m<ipython-input-13-12a391a6a35f>\u001b[0m in \u001b[0;36m<module>\u001b[1;34m()\u001b[0m\n\u001b[0;32m      6\u001b[0m \u001b[0mmtm_rampur\u001b[0m\u001b[1;33m=\u001b[0m\u001b[0mmeantemp_rampur\u001b[0m\u001b[1;33m.\u001b[0m\u001b[0mgroupby\u001b[0m\u001b[1;33m(\u001b[0m\u001b[0mmeantemp_rampur\u001b[0m\u001b[1;33m[\u001b[0m\u001b[1;34m'Tmax'\u001b[0m\u001b[1;33m]\u001b[0m\u001b[1;33m.\u001b[0m\u001b[0mindex\u001b[0m\u001b[1;33m.\u001b[0m\u001b[0mmonth\u001b[0m\u001b[1;33m)\u001b[0m\u001b[1;33m.\u001b[0m\u001b[0mmean\u001b[0m\u001b[1;33m(\u001b[0m\u001b[1;33m)\u001b[0m\u001b[1;33m\u001b[0m\u001b[0m\n\u001b[0;32m      7\u001b[0m \u001b[0mmtm_rampur\u001b[0m\u001b[1;33m[\u001b[0m\u001b[1;34m'date'\u001b[0m\u001b[1;33m]\u001b[0m \u001b[1;33m=\u001b[0m \u001b[0mmtm_rampur\u001b[0m\u001b[1;33m.\u001b[0m\u001b[0mindex\u001b[0m\u001b[1;33m\u001b[0m\u001b[0m\n\u001b[1;32m----> 8\u001b[1;33m \u001b[0mmtm_rampur\u001b[0m\u001b[1;33m[\u001b[0m\u001b[1;34m'month'\u001b[0m\u001b[1;33m]\u001b[0m \u001b[1;33m=\u001b[0m \u001b[0mmtm_rampur\u001b[0m\u001b[1;33m[\u001b[0m\u001b[1;34m'date'\u001b[0m\u001b[1;33m]\u001b[0m\u001b[1;33m.\u001b[0m\u001b[0mindex\u001b[0m\u001b[1;33m.\u001b[0m\u001b[0mmonth\u001b[0m\u001b[1;33m\u001b[0m\u001b[0m\n\u001b[0m\u001b[0;32m      9\u001b[0m \u001b[1;33m\u001b[0m\u001b[0m\n\u001b[0;32m     10\u001b[0m \u001b[0mdisplay\u001b[0m\u001b[1;33m(\u001b[0m\u001b[0mmtm_rampur\u001b[0m\u001b[1;33m)\u001b[0m\u001b[1;33m\u001b[0m\u001b[0m\n",
      "\u001b[1;31mAttributeError\u001b[0m: 'Int64Index' object has no attribute 'month'"
     ]
    }
   ],
   "source": [
    "# Temperature\n",
    "meantemp_rampur = temp_rampur.copy(deep=True)\n",
    "\n",
    "meantemp_rampur['month'] = meantemp_rampur['date'].dt.strftime('%b')\n",
    "\n",
    "mtm_rampur=meantemp_rampur.groupby(meantemp_rampur['Tmax'].index.month).mean()\n",
    "mtm_rampur['date'] = mtm_rampur.index\n",
    "mtm_rampur['month'] = mtm_rampur['date'].index.month\n",
    "\n",
    "display(mtm_rampur)\n",
    "#meantempmax_rampur.plot(kind='bar',width=0.8,legend=False,color='b')\n",
    "#plt.xlabel('Months')\n",
    "plt.show()"
   ]
  },
  {
   "cell_type": "markdown",
   "metadata": {},
   "source": [
    "### Trends (Lecture 12)\n",
    "\n",
    "1. Seasonal decompose\n",
    "\n",
    "2. Trend tests(Wald-Wolfowitz, Mann-Kendall, Linear-regression method)\n",
    "\n",
    "3. Jumps?"
   ]
  },
  {
   "cell_type": "code",
   "execution_count": null,
   "metadata": {},
   "outputs": [],
   "source": [
    "# In some cases, a simple decomposition using moving averages is possible\n",
    "from statsmodels.tsa.seasonal import seasonal_decompose\n",
    "\n",
    "# to deal with gaps in the time series, let's go to monthly averages and interpolate any remaining gaps\n",
    "prec_month=prec_Rampur.resample('1M').mean().interpolate().dropna()\n",
    "prec_month.plot()\n",
    "plt.show()\n",
    "\n",
    "\n",
    "# here, assuming an additive model: Y[t] = T[t] + S[t] + e[t]\n",
    "decomposition=seasonal_decompose(prec_month['Precipitation (mm)'])\n",
    "\n",
    "decomposition.plot()\n",
    "plt.legend()\n",
    "plt.show()"
   ]
  },
  {
   "cell_type": "markdown",
   "metadata": {},
   "source": [
    "## Future prediction\n",
    "\n",
    "Rating curve "
   ]
  },
  {
   "cell_type": "markdown",
   "metadata": {},
   "source": [
    "### Covariagram"
   ]
  },
  {
   "cell_type": "markdown",
   "metadata": {},
   "source": [
    "### Multiple linear regression model (Lecture 10)\n",
    "\n",
    "1. Use some independent variables to estimate a dependent variable.\n",
    "Prec og disc stor sammenheng?\n",
    "Forskjell i plassering av data stasjon, kan kanskje bruke spatial interpolation elns?\n",
    "\n",
    "2. Principal component analysis"
   ]
  },
  {
   "cell_type": "markdown",
   "metadata": {},
   "source": [
    "### Frequency analysis (Lecture 5)\n",
    "\n",
    "* Introduction\n",
    "    - Aim\n",
    "    - Assumptions\n",
    "* Analytical method\n",
    "    - Frequency factor\n",
    "    - Examples\n",
    "    \n",
    "### Confidence interval (Lecture 6)\n",
    "* Constructing confidence intervals\n",
    "\n",
    "* Hypothesis testing?"
   ]
  },
  {
   "cell_type": "markdown",
   "metadata": {},
   "source": [
    "### Testing the goodness of fit of data to probability distributions (Lecture 7)\n",
    "\n",
    "1. Chi-square test\n",
    "2. Kolmogorov-Smirnoov test"
   ]
  },
  {
   "cell_type": "markdown",
   "metadata": {},
   "source": [
    "### Moments, covariance, correlation etc (Lecture 2)\n",
    "\n",
    "Probably part of other tasks"
   ]
  },
  {
   "cell_type": "markdown",
   "metadata": {
    "collapsed": true
   },
   "source": [
    "#### Climate and topography\n",
    "\n",
    "#### Lapsrate \n",
    "\n",
    "#### Plots\n",
    "1. Plot whole time series and trend line\n",
    "2. Plot monthly means\n",
    "3. Seasonal decompose?\n",
    "4. \n",
    "\n",
    "#### Probability distribution\n",
    "1. Take monthly means of for example precipitation or temperature. \n",
    "2. Try to fit a probability distribution to the monthly mean.\n",
    "3. Test goodness of fit by Chi-square or Kolmogorov-Smirnoov test.\n",
    "\n",
    "#### Frequency analysis\n",
    "1. Create a set of peak values(f.ex. one value per year or season)\n",
    "2. Plot peak values in a probability of exceedence plot by ranking etc.\n",
    "3. Fit data to probability distribution\n",
    "4. Create probability of exceedence plot for years \"larger\" than our dataset by using the probability distribution\n",
    "\n",
    "#### Regression model\n",
    "1. Correlation for picking best variable\n",
    "2. Try to create a model for precip or discharge based on a independent variable discharge or precip.\n",
    "3. Is R2 large? I.e. good model? Does addition of temperature give any increase?\n",
    "\n"
   ]
  },
  {
   "cell_type": "code",
   "execution_count": null,
   "metadata": {
    "collapsed": true
   },
   "outputs": [],
   "source": []
  }
 ],
 "metadata": {
  "kernelspec": {
   "display_name": "Python 3",
   "language": "python",
   "name": "python3"
  },
  "language_info": {
   "codemirror_mode": {
    "name": "ipython",
    "version": 3
   },
   "file_extension": ".py",
   "mimetype": "text/x-python",
   "name": "python",
   "nbconvert_exporter": "python",
   "pygments_lexer": "ipython3",
   "version": "3.6.1"
  }
 },
 "nbformat": 4,
 "nbformat_minor": 2
}
