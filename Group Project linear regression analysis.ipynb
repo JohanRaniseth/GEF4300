{
 "cells": [
  {
   "cell_type": "markdown",
   "metadata": {},
   "source": [
    "## DATA"
   ]
  },
  {
   "cell_type": "markdown",
   "metadata": {},
   "source": [
    "### For Pohara"
   ]
  },
  {
   "cell_type": "markdown",
   "metadata": {},
   "source": [
    "#### Discharge"
   ]
  },
  {
   "cell_type": "code",
   "execution_count": 1,
   "metadata": {},
   "outputs": [
    {
     "name": "stderr",
     "output_type": "stream",
     "text": [
      "C:\\Users\\Claus\\Anaconda3\\lib\\site-packages\\statsmodels\\compat\\pandas.py:56: FutureWarning: The pandas.core.datetools module is deprecated and will be removed in a future version. Please use the pandas.tseries module instead.\n",
      "  from pandas.core import datetools\n"
     ]
    }
   ],
   "source": [
    "%matplotlib inline\n",
    "import matplotlib.pyplot as plt\n",
    "import numpy as np\n",
    "import pandas as pd\n",
    "import scipy.stats \n",
    "import statsmodels.formula.api as smf\n",
    "import statsmodels.tsa.stattools as st\n",
    "from statsmodels.graphics.tsaplots import plot_acf"
   ]
  },
  {
   "cell_type": "markdown",
   "metadata": {},
   "source": [
    "#### To get averge from dataset "
   ]
  },
  {
   "cell_type": "code",
   "execution_count": 2,
   "metadata": {},
   "outputs": [
    {
     "data": {
      "text/plain": [
       "Year      Average:\n",
       "Jan.          12.9\n",
       "Feb.          11.4\n",
       "Mar.          11.3\n",
       "Apr.          13.0\n",
       "May           19.1\n",
       "Jun.          49.8\n",
       "Jul.           130\n",
       "Aug.           147\n",
       "Sep.           103\n",
       "Oct.          54.5\n",
       "Nov.          25.3\n",
       "Dec.          16.9\n",
       "Year.1        49.5\n",
       "Name: 22, dtype: object"
      ]
     },
     "metadata": {},
     "output_type": "display_data"
    }
   ],
   "source": [
    "dis_430 = pd.read_csv('Discharge/430/Yr Book/AVQ430.txt',skiprows=9, nrows=24, sep='\\s+')\n",
    "\n",
    "get_dis_430_ave=dis_430.iloc[22]\n",
    "#display(dis_430)\n",
    "display(get_dis_430_ave)\n",
    "#display(float(get_dis_430_ave[1]))"
   ]
  },
  {
   "cell_type": "markdown",
   "metadata": {},
   "source": [
    "#### From str to float for all"
   ]
  },
  {
   "cell_type": "code",
   "execution_count": 3,
   "metadata": {},
   "outputs": [
    {
     "data": {
      "text/plain": [
       "array([ 12.9,  11.4,  11.3,  13. ,  19.1,  49.8, 130. , 147. , 103. ,\n",
       "        54.5,  25.3,  16.9])"
      ]
     },
     "metadata": {},
     "output_type": "display_data"
    },
    {
     "data": {
      "text/plain": [
       "0      12.9\n",
       "1      11.4\n",
       "2      11.3\n",
       "3      13.0\n",
       "4      19.1\n",
       "5      49.8\n",
       "6     130.0\n",
       "7     147.0\n",
       "8     103.0\n",
       "9      54.5\n",
       "10     25.3\n",
       "11     16.9\n",
       "dtype: float64"
      ]
     },
     "metadata": {},
     "output_type": "display_data"
    }
   ],
   "source": [
    "dis_average=np.zeros(13)\n",
    "for i in range(1,13):\n",
    "    dis_average[i]=float(get_dis_430_ave[i])\n",
    "    \n",
    "display(dis_average[1:13])\n",
    "\n",
    "dis_430_ave = dis_average[1:13]\n",
    "dis_430_ave = pd.Series(dis_430_ave)\n",
    "display(dis_430_ave)"
   ]
  },
  {
   "cell_type": "markdown",
   "metadata": {},
   "source": [
    "#### Precipitation"
   ]
  },
  {
   "cell_type": "code",
   "execution_count": 4,
   "metadata": {},
   "outputs": [],
   "source": [
    "pohara_pre_raw=pd.read_csv('Preci/precip/prec_Pohara.csv',na_values=-99.9)\n",
    "pohara_pre_raw['Time']=pd.to_datetime(pohara_pre_raw['Time'])\n",
    "display()"
   ]
  },
  {
   "cell_type": "markdown",
   "metadata": {},
   "source": [
    "##### Clean dataset"
   ]
  },
  {
   "cell_type": "code",
   "execution_count": 5,
   "metadata": {
    "collapsed": true
   },
   "outputs": [],
   "source": [
    "idx_first_non_nan=pohara_pre_raw['Precipitation (mm)'].first_valid_index()"
   ]
  },
  {
   "cell_type": "code",
   "execution_count": 6,
   "metadata": {},
   "outputs": [
    {
     "data": {
      "text/plain": [
       "Timestamp('1968-01-01 00:00:00')"
      ]
     },
     "execution_count": 6,
     "metadata": {},
     "output_type": "execute_result"
    }
   ],
   "source": [
    "pohara_pre_raw['Time'].iloc[0]"
   ]
  },
  {
   "cell_type": "code",
   "execution_count": 7,
   "metadata": {},
   "outputs": [],
   "source": [
    "pohara_pre=pohara_pre_raw\n",
    "pohara_month_pre=pohara_pre.groupby(pohara_pre.Time.dt.month).mean()\n",
    "#display(pohara_month_pre)"
   ]
  },
  {
   "cell_type": "code",
   "execution_count": 8,
   "metadata": {},
   "outputs": [
    {
     "data": {
      "text/html": [
       "<div>\n",
       "<style>\n",
       "    .dataframe thead tr:only-child th {\n",
       "        text-align: right;\n",
       "    }\n",
       "\n",
       "    .dataframe thead th {\n",
       "        text-align: left;\n",
       "    }\n",
       "\n",
       "    .dataframe tbody tr th {\n",
       "        vertical-align: top;\n",
       "    }\n",
       "</style>\n",
       "<table border=\"1\" class=\"dataframe\">\n",
       "  <thead>\n",
       "    <tr style=\"text-align: right;\">\n",
       "      <th></th>\n",
       "      <th>Precipitation (mm)</th>\n",
       "      <th>month</th>\n",
       "      <th>prec</th>\n",
       "    </tr>\n",
       "    <tr>\n",
       "      <th>Time</th>\n",
       "      <th></th>\n",
       "      <th></th>\n",
       "      <th></th>\n",
       "    </tr>\n",
       "  </thead>\n",
       "  <tbody>\n",
       "    <tr>\n",
       "      <th>1</th>\n",
       "      <td>0.723593</td>\n",
       "      <td>Jan</td>\n",
       "      <td>0.723593</td>\n",
       "    </tr>\n",
       "    <tr>\n",
       "      <th>2</th>\n",
       "      <td>1.195926</td>\n",
       "      <td>Feb</td>\n",
       "      <td>1.195926</td>\n",
       "    </tr>\n",
       "    <tr>\n",
       "      <th>3</th>\n",
       "      <td>1.905223</td>\n",
       "      <td>Mar</td>\n",
       "      <td>1.905223</td>\n",
       "    </tr>\n",
       "    <tr>\n",
       "      <th>4</th>\n",
       "      <td>4.156270</td>\n",
       "      <td>Apr</td>\n",
       "      <td>4.156270</td>\n",
       "    </tr>\n",
       "    <tr>\n",
       "      <th>5</th>\n",
       "      <td>11.531221</td>\n",
       "      <td>May</td>\n",
       "      <td>11.531221</td>\n",
       "    </tr>\n",
       "    <tr>\n",
       "      <th>6</th>\n",
       "      <td>21.850969</td>\n",
       "      <td>Jun</td>\n",
       "      <td>21.850969</td>\n",
       "    </tr>\n",
       "    <tr>\n",
       "      <th>7</th>\n",
       "      <td>29.960698</td>\n",
       "      <td>Jul</td>\n",
       "      <td>29.960698</td>\n",
       "    </tr>\n",
       "    <tr>\n",
       "      <th>8</th>\n",
       "      <td>27.277419</td>\n",
       "      <td>Aug</td>\n",
       "      <td>27.277419</td>\n",
       "    </tr>\n",
       "    <tr>\n",
       "      <th>9</th>\n",
       "      <td>20.687093</td>\n",
       "      <td>Sep</td>\n",
       "      <td>20.687093</td>\n",
       "    </tr>\n",
       "    <tr>\n",
       "      <th>10</th>\n",
       "      <td>5.269092</td>\n",
       "      <td>Oct</td>\n",
       "      <td>5.269092</td>\n",
       "    </tr>\n",
       "    <tr>\n",
       "      <th>11</th>\n",
       "      <td>0.644031</td>\n",
       "      <td>Nov</td>\n",
       "      <td>0.644031</td>\n",
       "    </tr>\n",
       "    <tr>\n",
       "      <th>12</th>\n",
       "      <td>0.608434</td>\n",
       "      <td>Dec</td>\n",
       "      <td>0.608434</td>\n",
       "    </tr>\n",
       "  </tbody>\n",
       "</table>\n",
       "</div>"
      ],
      "text/plain": [
       "      Precipitation (mm) month       prec\n",
       "Time                                     \n",
       "1               0.723593   Jan   0.723593\n",
       "2               1.195926   Feb   1.195926\n",
       "3               1.905223   Mar   1.905223\n",
       "4               4.156270   Apr   4.156270\n",
       "5              11.531221   May  11.531221\n",
       "6              21.850969   Jun  21.850969\n",
       "7              29.960698   Jul  29.960698\n",
       "8              27.277419   Aug  27.277419\n",
       "9              20.687093   Sep  20.687093\n",
       "10              5.269092   Oct   5.269092\n",
       "11              0.644031   Nov   0.644031\n",
       "12              0.608434   Dec   0.608434"
      ]
     },
     "metadata": {},
     "output_type": "display_data"
    }
   ],
   "source": [
    "label = ['Jan','Feb','Mar','Apr','May','Jun','Jul','Aug','Sep','Oct','Nov','Dec']\n",
    "pohara_month_pre['month']=label\n",
    "#pohara_month_pre.index = pohara_month_pre['month'] # Maybe not important\n",
    "pohara_month_pre['prec']=pohara_month_pre['Precipitation (mm)']\n",
    "display(pohara_month_pre)"
   ]
  },
  {
   "cell_type": "markdown",
   "metadata": {},
   "source": [
    "#### Temperature "
   ]
  },
  {
   "cell_type": "code",
   "execution_count": 9,
   "metadata": {},
   "outputs": [],
   "source": [
    "pohara_temp = pd.read_csv('temp/temp_Pohara.csv',na_values=-99.9)\n",
    "pohara_temp['Time']=pd.to_datetime(pohara_temp['Time'])\n",
    "pohara_temp['Mean temp'] = (pohara_temp['Tmax']+pohara_temp['Tmin'])/2\n",
    "#display(pohara_temp)"
   ]
  },
  {
   "cell_type": "code",
   "execution_count": 10,
   "metadata": {},
   "outputs": [
    {
     "data": {
      "text/html": [
       "<div>\n",
       "<style>\n",
       "    .dataframe thead tr:only-child th {\n",
       "        text-align: right;\n",
       "    }\n",
       "\n",
       "    .dataframe thead th {\n",
       "        text-align: left;\n",
       "    }\n",
       "\n",
       "    .dataframe tbody tr th {\n",
       "        vertical-align: top;\n",
       "    }\n",
       "</style>\n",
       "<table border=\"1\" class=\"dataframe\">\n",
       "  <thead>\n",
       "    <tr style=\"text-align: right;\">\n",
       "      <th></th>\n",
       "      <th>Tmax</th>\n",
       "      <th>Tmin</th>\n",
       "      <th>Mean temp</th>\n",
       "    </tr>\n",
       "    <tr>\n",
       "      <th>Time</th>\n",
       "      <th></th>\n",
       "      <th></th>\n",
       "      <th></th>\n",
       "    </tr>\n",
       "  </thead>\n",
       "  <tbody>\n",
       "    <tr>\n",
       "      <th>1</th>\n",
       "      <td>19.321462</td>\n",
       "      <td>7.062741</td>\n",
       "      <td>13.176594</td>\n",
       "    </tr>\n",
       "    <tr>\n",
       "      <th>2</th>\n",
       "      <td>21.844041</td>\n",
       "      <td>8.965803</td>\n",
       "      <td>15.404922</td>\n",
       "    </tr>\n",
       "    <tr>\n",
       "      <th>3</th>\n",
       "      <td>26.507632</td>\n",
       "      <td>12.477183</td>\n",
       "      <td>19.492408</td>\n",
       "    </tr>\n",
       "    <tr>\n",
       "      <th>4</th>\n",
       "      <td>29.724085</td>\n",
       "      <td>15.570033</td>\n",
       "      <td>22.646498</td>\n",
       "    </tr>\n",
       "    <tr>\n",
       "      <th>5</th>\n",
       "      <td>29.886919</td>\n",
       "      <td>18.278960</td>\n",
       "      <td>24.082939</td>\n",
       "    </tr>\n",
       "    <tr>\n",
       "      <th>6</th>\n",
       "      <td>30.206291</td>\n",
       "      <td>20.757680</td>\n",
       "      <td>25.481643</td>\n",
       "    </tr>\n",
       "    <tr>\n",
       "      <th>7</th>\n",
       "      <td>29.712989</td>\n",
       "      <td>21.826980</td>\n",
       "      <td>25.769569</td>\n",
       "    </tr>\n",
       "    <tr>\n",
       "      <th>8</th>\n",
       "      <td>29.861651</td>\n",
       "      <td>21.824306</td>\n",
       "      <td>25.844277</td>\n",
       "    </tr>\n",
       "    <tr>\n",
       "      <th>9</th>\n",
       "      <td>28.941766</td>\n",
       "      <td>20.633626</td>\n",
       "      <td>24.788129</td>\n",
       "    </tr>\n",
       "    <tr>\n",
       "      <th>10</th>\n",
       "      <td>27.056538</td>\n",
       "      <td>16.569136</td>\n",
       "      <td>21.818133</td>\n",
       "    </tr>\n",
       "    <tr>\n",
       "      <th>11</th>\n",
       "      <td>23.811587</td>\n",
       "      <td>11.794277</td>\n",
       "      <td>17.806041</td>\n",
       "    </tr>\n",
       "    <tr>\n",
       "      <th>12</th>\n",
       "      <td>20.408652</td>\n",
       "      <td>7.847894</td>\n",
       "      <td>14.130421</td>\n",
       "    </tr>\n",
       "  </tbody>\n",
       "</table>\n",
       "</div>"
      ],
      "text/plain": [
       "           Tmax       Tmin  Mean temp\n",
       "Time                                 \n",
       "1     19.321462   7.062741  13.176594\n",
       "2     21.844041   8.965803  15.404922\n",
       "3     26.507632  12.477183  19.492408\n",
       "4     29.724085  15.570033  22.646498\n",
       "5     29.886919  18.278960  24.082939\n",
       "6     30.206291  20.757680  25.481643\n",
       "7     29.712989  21.826980  25.769569\n",
       "8     29.861651  21.824306  25.844277\n",
       "9     28.941766  20.633626  24.788129\n",
       "10    27.056538  16.569136  21.818133\n",
       "11    23.811587  11.794277  17.806041\n",
       "12    20.408652   7.847894  14.130421"
      ]
     },
     "metadata": {},
     "output_type": "display_data"
    }
   ],
   "source": [
    "pohara_month_temp=pohara_temp.groupby(pohara_temp.Time.dt.month).mean()\n",
    "display(pohara_month_temp)\n",
    "#pohara_month_temp=pohara_month_temp.reset_index\n",
    "#display(pohara_month_temp)"
   ]
  },
  {
   "cell_type": "markdown",
   "metadata": {},
   "source": [
    "### Make dataframe for correlation"
   ]
  },
  {
   "cell_type": "code",
   "execution_count": 11,
   "metadata": {},
   "outputs": [
    {
     "data": {
      "text/plain": [
       "12"
      ]
     },
     "metadata": {},
     "output_type": "display_data"
    },
    {
     "data": {
      "text/plain": [
       "12"
      ]
     },
     "metadata": {},
     "output_type": "display_data"
    },
    {
     "data": {
      "text/plain": [
       "12"
      ]
     },
     "metadata": {},
     "output_type": "display_data"
    },
    {
     "data": {
      "text/plain": [
       "pandas.core.series.Series"
      ]
     },
     "metadata": {},
     "output_type": "display_data"
    },
    {
     "data": {
      "text/plain": [
       "pandas.core.series.Series"
      ]
     },
     "metadata": {},
     "output_type": "display_data"
    },
    {
     "data": {
      "text/plain": [
       "pandas.core.series.Series"
      ]
     },
     "metadata": {},
     "output_type": "display_data"
    }
   ],
   "source": [
    "display(len(pohara_month_pre['prec']))\n",
    "display(len(pohara_month_temp['Mean temp']))\n",
    "display(len(dis_430_ave))\n",
    "\n",
    "display(type(pohara_month_pre['prec']))\n",
    "display(type(pohara_month_temp['Mean temp']))\n",
    "display(type(dis_430_ave))"
   ]
  },
  {
   "cell_type": "markdown",
   "metadata": {},
   "source": [
    "#### Reset index for:"
   ]
  },
  {
   "cell_type": "code",
   "execution_count": 12,
   "metadata": {},
   "outputs": [],
   "source": [
    "pohara_month_pre=pohara_month_pre.reset_index(drop=True)\n",
    "pohara_month_temp=pohara_month_temp.reset_index(drop=True)"
   ]
  },
  {
   "cell_type": "code",
   "execution_count": 13,
   "metadata": {},
   "outputs": [
    {
     "data": {
      "text/html": [
       "<div>\n",
       "<style>\n",
       "    .dataframe thead tr:only-child th {\n",
       "        text-align: right;\n",
       "    }\n",
       "\n",
       "    .dataframe thead th {\n",
       "        text-align: left;\n",
       "    }\n",
       "\n",
       "    .dataframe tbody tr th {\n",
       "        vertical-align: top;\n",
       "    }\n",
       "</style>\n",
       "<table border=\"1\" class=\"dataframe\">\n",
       "  <thead>\n",
       "    <tr style=\"text-align: right;\">\n",
       "      <th></th>\n",
       "      <th>Discharge</th>\n",
       "      <th>Precip</th>\n",
       "      <th>Temp</th>\n",
       "    </tr>\n",
       "  </thead>\n",
       "  <tbody>\n",
       "    <tr>\n",
       "      <th>0</th>\n",
       "      <td>12.9</td>\n",
       "      <td>0.723593</td>\n",
       "      <td>13.176594</td>\n",
       "    </tr>\n",
       "    <tr>\n",
       "      <th>1</th>\n",
       "      <td>11.4</td>\n",
       "      <td>1.195926</td>\n",
       "      <td>15.404922</td>\n",
       "    </tr>\n",
       "    <tr>\n",
       "      <th>2</th>\n",
       "      <td>11.3</td>\n",
       "      <td>1.905223</td>\n",
       "      <td>19.492408</td>\n",
       "    </tr>\n",
       "    <tr>\n",
       "      <th>3</th>\n",
       "      <td>13.0</td>\n",
       "      <td>4.156270</td>\n",
       "      <td>22.646498</td>\n",
       "    </tr>\n",
       "    <tr>\n",
       "      <th>4</th>\n",
       "      <td>19.1</td>\n",
       "      <td>11.531221</td>\n",
       "      <td>24.082939</td>\n",
       "    </tr>\n",
       "    <tr>\n",
       "      <th>5</th>\n",
       "      <td>49.8</td>\n",
       "      <td>21.850969</td>\n",
       "      <td>25.481643</td>\n",
       "    </tr>\n",
       "    <tr>\n",
       "      <th>6</th>\n",
       "      <td>130.0</td>\n",
       "      <td>29.960698</td>\n",
       "      <td>25.769569</td>\n",
       "    </tr>\n",
       "    <tr>\n",
       "      <th>7</th>\n",
       "      <td>147.0</td>\n",
       "      <td>27.277419</td>\n",
       "      <td>25.844277</td>\n",
       "    </tr>\n",
       "    <tr>\n",
       "      <th>8</th>\n",
       "      <td>103.0</td>\n",
       "      <td>20.687093</td>\n",
       "      <td>24.788129</td>\n",
       "    </tr>\n",
       "    <tr>\n",
       "      <th>9</th>\n",
       "      <td>54.5</td>\n",
       "      <td>5.269092</td>\n",
       "      <td>21.818133</td>\n",
       "    </tr>\n",
       "    <tr>\n",
       "      <th>10</th>\n",
       "      <td>25.3</td>\n",
       "      <td>0.644031</td>\n",
       "      <td>17.806041</td>\n",
       "    </tr>\n",
       "    <tr>\n",
       "      <th>11</th>\n",
       "      <td>16.9</td>\n",
       "      <td>0.608434</td>\n",
       "      <td>14.130421</td>\n",
       "    </tr>\n",
       "  </tbody>\n",
       "</table>\n",
       "</div>"
      ],
      "text/plain": [
       "    Discharge     Precip       Temp\n",
       "0        12.9   0.723593  13.176594\n",
       "1        11.4   1.195926  15.404922\n",
       "2        11.3   1.905223  19.492408\n",
       "3        13.0   4.156270  22.646498\n",
       "4        19.1  11.531221  24.082939\n",
       "5        49.8  21.850969  25.481643\n",
       "6       130.0  29.960698  25.769569\n",
       "7       147.0  27.277419  25.844277\n",
       "8       103.0  20.687093  24.788129\n",
       "9        54.5   5.269092  21.818133\n",
       "10       25.3   0.644031  17.806041\n",
       "11       16.9   0.608434  14.130421"
      ]
     },
     "execution_count": 13,
     "metadata": {},
     "output_type": "execute_result"
    }
   ],
   "source": [
    "d = {'Precip':pohara_month_pre['prec'],\n",
    "    'Temp': pohara_month_temp['Mean temp'] ,\n",
    "    'Discharge': dis_430_ave[0:12]}\n",
    "cor_df_pohara =pd.DataFrame(d)\n",
    "cor_df_pohara"
   ]
  },
  {
   "cell_type": "markdown",
   "metadata": {},
   "source": [
    "#### Analysis"
   ]
  },
  {
   "cell_type": "code",
   "execution_count": 14,
   "metadata": {
    "scrolled": true
   },
   "outputs": [
    {
     "data": {
      "text/html": [
       "<div>\n",
       "<style>\n",
       "    .dataframe thead tr:only-child th {\n",
       "        text-align: right;\n",
       "    }\n",
       "\n",
       "    .dataframe thead th {\n",
       "        text-align: left;\n",
       "    }\n",
       "\n",
       "    .dataframe tbody tr th {\n",
       "        vertical-align: top;\n",
       "    }\n",
       "</style>\n",
       "<table border=\"1\" class=\"dataframe\">\n",
       "  <thead>\n",
       "    <tr style=\"text-align: right;\">\n",
       "      <th></th>\n",
       "      <th>Discharge</th>\n",
       "      <th>Precip</th>\n",
       "      <th>Temp</th>\n",
       "    </tr>\n",
       "  </thead>\n",
       "  <tbody>\n",
       "    <tr>\n",
       "      <th>Discharge</th>\n",
       "      <td>1.000000</td>\n",
       "      <td>0.894414</td>\n",
       "      <td>0.686686</td>\n",
       "    </tr>\n",
       "    <tr>\n",
       "      <th>Precip</th>\n",
       "      <td>0.894414</td>\n",
       "      <td>1.000000</td>\n",
       "      <td>0.837039</td>\n",
       "    </tr>\n",
       "    <tr>\n",
       "      <th>Temp</th>\n",
       "      <td>0.686686</td>\n",
       "      <td>0.837039</td>\n",
       "      <td>1.000000</td>\n",
       "    </tr>\n",
       "  </tbody>\n",
       "</table>\n",
       "</div>"
      ],
      "text/plain": [
       "           Discharge    Precip      Temp\n",
       "Discharge   1.000000  0.894414  0.686686\n",
       "Precip      0.894414  1.000000  0.837039\n",
       "Temp        0.686686  0.837039  1.000000"
      ]
     },
     "execution_count": 14,
     "metadata": {},
     "output_type": "execute_result"
    }
   ],
   "source": [
    "cor_df_pohara.corr()"
   ]
  },
  {
   "cell_type": "code",
   "execution_count": null,
   "metadata": {
    "collapsed": true
   },
   "outputs": [],
   "source": []
  },
  {
   "cell_type": "code",
   "execution_count": 15,
   "metadata": {},
   "outputs": [
    {
     "data": {
      "image/png": "[encoded data removed]",
      "text/plain": [
       "<matplotlib.figure.Figure at 0x1830df5f3c8>"
      ]
     },
     "metadata": {},
     "output_type": "display_data"
    }
   ],
   "source": [
    "plt.figure(figsize=(5,5))\n",
    "\n",
    "plt.scatter(cor_df_pohara['Discharge'], cor_df_pohara['Precip'], label='corr = 0.894414')\n",
    "plt.title('Scatter plot of for discharge and precipitation', size=11)\n",
    "plt.xlabel('Discharge', size = 12)\n",
    "plt.ylabel('Precipitation', size = 12)\n",
    "plt.legend(loc = 'upper left')\n",
    "\n",
    "plt.grid(True)"
   ]
  },
  {
   "cell_type": "code",
   "execution_count": null,
   "metadata": {
    "collapsed": true
   },
   "outputs": [],
   "source": []
  },
  {
   "cell_type": "markdown",
   "metadata": {},
   "source": [
    "#### Regression  with the independent variable that has the best corralation (simple regression)"
   ]
  },
  {
   "cell_type": "code",
   "execution_count": 16,
   "metadata": {},
   "outputs": [],
   "source": [
    "dis_pre = smf.ols(formula='Discharge ~ Precip',data=cor_df_pohara).fit()\n",
    "#dis_pre.summary()"
   ]
  },
  {
   "cell_type": "code",
   "execution_count": 17,
   "metadata": {},
   "outputs": [
    {
     "data": {
      "text/plain": [
       "0.7999765361519535"
      ]
     },
     "metadata": {},
     "output_type": "display_data"
    }
   ],
   "source": [
    "r2_dis_pre = dis_pre.rsquared\n",
    "display(r2_dis_pre)"
   ]
  },
  {
   "cell_type": "markdown",
   "metadata": {},
   "source": [
    "#### Regression equation"
   ]
  },
  {
   "cell_type": "code",
   "execution_count": 18,
   "metadata": {
    "collapsed": true
   },
   "outputs": [],
   "source": [
    "alpha_pre = dis_pre.params[0]\n",
    "beta_pre = dis_pre.params[1]\n",
    "\n",
    "dis_pre_calc = alpha_pre + beta_pre*cor_df_pohara['Precip']"
   ]
  },
  {
   "cell_type": "code",
   "execution_count": 19,
   "metadata": {},
   "outputs": [
    {
     "name": "stdout",
     "output_type": "stream",
     "text": [
      "r-squared is: 0.8\n",
      "Regression equation: y = 8.497 + 3.913*pre\n"
     ]
    }
   ],
   "source": [
    "print('r-squared is: ' +str(r2_dis_pre.round(3)))\n",
    "print('Regression equation: y = {} + {}*pre'.format(alpha_pre.round(3),(beta_pre.round(3))))"
   ]
  },
  {
   "cell_type": "code",
   "execution_count": 20,
   "metadata": {},
   "outputs": [
    {
     "data": {
      "image/png": "[encoded data removed]",
      "text/plain": [
       "<matplotlib.figure.Figure at 0x1830df529e8>"
      ]
     },
     "metadata": {},
     "output_type": "display_data"
    }
   ],
   "source": [
    "plt.figure(figsize=(10,5))\n",
    "\n",
    "#plt.suptitle('Figures for every step in the Multiple linear regression ', size=16)\n",
    "\n",
    "beta_pre = dis_pre.params[1]\n",
    "\n",
    "\n",
    "#plt.title('Regression equation: y = {} + {}*X1'.format(alpha_pre.round(3),(beta_pre.round(3))))\n",
    "plt.plot(dis_pre_calc,label='Regression line')\n",
    "plt.plot(cor_df_pohara['Discharge'],label='Observed data')\n",
    "plt.legend()\n",
    "plt.grid(True)"
   ]
  },
  {
   "cell_type": "markdown",
   "metadata": {},
   "source": [
    "#### Multiple regression and temperature  "
   ]
  },
  {
   "cell_type": "code",
   "execution_count": 21,
   "metadata": {
    "collapsed": true
   },
   "outputs": [],
   "source": [
    "dis_pre_temp = smf.ols(formula='Discharge ~ Precip+Temp',data=cor_df_pohara).fit()"
   ]
  },
  {
   "cell_type": "code",
   "execution_count": 22,
   "metadata": {},
   "outputs": [
    {
     "data": {
      "text/plain": [
       "0.8128061739134104"
      ]
     },
     "metadata": {},
     "output_type": "display_data"
    }
   ],
   "source": [
    "r2_dis_pre_temp = dis_pre_temp.rsquared\n",
    "display(r2_dis_pre_temp)"
   ]
  },
  {
   "cell_type": "markdown",
   "metadata": {},
   "source": [
    "#### Regression equation"
   ]
  },
  {
   "cell_type": "code",
   "execution_count": 23,
   "metadata": {
    "collapsed": true
   },
   "outputs": [],
   "source": [
    "alpha_pre_temp = dis_pre_temp.params[0]\n",
    "beta_pre = dis_pre_temp.params[1]\n",
    "beta_temp = dis_pre_temp.params[2]\n",
    "\n",
    "dis_pre_temp_calc = alpha_pre + beta_pre*cor_df_pohara['Precip']+beta_temp*cor_df_pohara['Temp']"
   ]
  },
  {
   "cell_type": "code",
   "execution_count": 24,
   "metadata": {},
   "outputs": [
    {
     "name": "stdout",
     "output_type": "stream",
     "text": [
      "r-squared is: 0.813\n",
      "Regression equation: y = 45.882 + 4.671*X1 + -2.172*X2\n"
     ]
    }
   ],
   "source": [
    "print('r-squared is: ' +str(r2_dis_pre_temp.round(3)))\n",
    "print('Regression equation: y = {} + {}*X1 + {}*X2'.format(alpha_pre_temp.round(3),beta_pre.round(3),beta_temp.round(3)))"
   ]
  },
  {
   "cell_type": "code",
   "execution_count": 25,
   "metadata": {},
   "outputs": [
    {
     "data": {
      "image/png": "[encoded data removed]",
      "text/plain": [
       "<matplotlib.figure.Figure at 0x1830dc4ecc0>"
      ]
     },
     "metadata": {},
     "output_type": "display_data"
    }
   ],
   "source": [
    "plt.figure(figsize=(10,5))\n",
    "\n",
    "#plt.suptitle('Figures for every step in the Multiple linear regression ', size=16)\n",
    "\n",
    "beta_pre = dis_pre_temp.params[1]\n",
    "beta_temp = dis_pre_temp.params[2]\n",
    "\n",
    "#plt.title('Regression equation: y = {} + {}*X1'.format(alpha_pre.round(3),(beta_pre.round(3))))\n",
    "plt.plot(dis_pre_temp_calc,label='Regression line')\n",
    "plt.plot(cor_df_pohara['Discharge'],label='Observed data')\n",
    "plt.legend()\n",
    "plt.grid(True)"
   ]
  },
  {
   "cell_type": "markdown",
   "metadata": {},
   "source": [
    "### F-test "
   ]
  },
  {
   "cell_type": "code",
   "execution_count": 26,
   "metadata": {
    "collapsed": true
   },
   "outputs": [],
   "source": [
    "from scipy import stats "
   ]
  },
  {
   "cell_type": "code",
   "execution_count": 27,
   "metadata": {},
   "outputs": [
    {
     "data": {
      "text/plain": [
       "1.202"
      ]
     },
     "metadata": {},
     "output_type": "display_data"
    },
    {
     "data": {
      "text/plain": [
       "3.388"
      ]
     },
     "metadata": {},
     "output_type": "display_data"
    }
   ],
   "source": [
    "N=len(cor_df_pohara['Discharge'])\n",
    "n = 2\n",
    "a = 0.05\n",
    "\n",
    "F_c = ((1-r2_dis_pre)*(N-n-1))/((1-r2_dis_pre_temp)*(N-n-2))\n",
    "\n",
    "F_value = stats.f.ppf(1-a,N-n-1,N-n-2)\n",
    "\n",
    "#display(N)\n",
    "display(F_c.round(3))\n",
    "display(F_value.round(3))"
   ]
  },
  {
   "cell_type": "markdown",
   "metadata": {},
   "source": [
    "The F-test shows that, $F_c$ < $F_{1-\\alpha,N-n-1,N-n-2} \\rightarrow$ 1.202 < 3.388, and therefore is the addition of the independent variable temperature not significant. "
   ]
  },
  {
   "cell_type": "markdown",
   "metadata": {},
   "source": [
    "Did check for temperatures from station lete which is higher and we got : $F_c$ < $F_{1-\\alpha,N-n-1,N-n-2} \\rightarrow$ 1.18 < 3.388, and therefore is the addition of the independent variable temperature not significant. "
   ]
  },
  {
   "cell_type": "markdown",
   "metadata": {},
   "source": [
    "### Multiple regression for precipitation for stations in higher terrain"
   ]
  },
  {
   "cell_type": "code",
   "execution_count": 28,
   "metadata": {
    "collapsed": true
   },
   "outputs": [],
   "source": [
    "lete_pre_raw=pd.read_csv('Preci/precip/prec_Lete.csv',na_values=-99.9)\n",
    "lete_pre_raw['Time']=pd.to_datetime(lete_pre_raw['Time'])\n",
    "\n",
    "lumle_pre_raw=pd.read_csv('Preci/precip/prec_Lumle.csv',na_values=-99.9)\n",
    "lumle_pre_raw['Time']=pd.to_datetime(lumle_pre_raw['Time'])"
   ]
  },
  {
   "cell_type": "code",
   "execution_count": 29,
   "metadata": {},
   "outputs": [
    {
     "data": {
      "text/plain": [
       "138"
      ]
     },
     "metadata": {},
     "output_type": "display_data"
    },
    {
     "data": {
      "text/plain": [
       "320"
      ]
     },
     "metadata": {},
     "output_type": "display_data"
    }
   ],
   "source": [
    "idx_first_non_nan_lete=lete_pre_raw['Precipitation (mm)'].first_valid_index()\n",
    "idx_first_non_nan_lumle=lumle_pre_raw['Precipitation (mm)'].first_valid_index()\n",
    "display(idx_first_non_nan_lete)\n",
    "display(idx_first_non_nan_lumle)"
   ]
  },
  {
   "cell_type": "code",
   "execution_count": 30,
   "metadata": {},
   "outputs": [
    {
     "data": {
      "text/plain": [
       "Timestamp('1969-05-19 00:00:00')"
      ]
     },
     "metadata": {},
     "output_type": "display_data"
    },
    {
     "data": {
      "text/plain": [
       "Timestamp('1969-11-17 00:00:00')"
      ]
     },
     "metadata": {},
     "output_type": "display_data"
    }
   ],
   "source": [
    "display(lete_pre_raw['Time'].iloc[138])\n",
    "display(lumle_pre_raw['Time'].iloc[320])"
   ]
  },
  {
   "cell_type": "code",
   "execution_count": 31,
   "metadata": {
    "scrolled": false
   },
   "outputs": [],
   "source": [
    "#display(lete_pre_raw[lete_pre_raw.Time.dt.year==1970].index.values.astype(int))\n",
    "#display(lumle_pre_raw[lumle_pre_raw.Time.dt.year==1970].index.values.astype(int))"
   ]
  },
  {
   "cell_type": "code",
   "execution_count": 32,
   "metadata": {
    "collapsed": true
   },
   "outputs": [],
   "source": [
    "lete_pre=lete_pre_raw[365:]\n",
    "lumle_pre=lumle_pre_raw[365:]"
   ]
  },
  {
   "cell_type": "code",
   "execution_count": 33,
   "metadata": {},
   "outputs": [],
   "source": [
    "lete_month_pre=lete_pre.groupby(lete_pre.Time.dt.month).mean()\n",
    "lumle_month_pre=lumle_pre.groupby(lumle_pre.Time.dt.month).mean()\n",
    "lete_month_pre['prec']=lete_month_pre['Precipitation (mm)']\n",
    "lumle_month_pre['prec']=lumle_month_pre['Precipitation (mm)']\n",
    "#display(lumle_month_pre)"
   ]
  },
  {
   "cell_type": "code",
   "execution_count": 34,
   "metadata": {
    "collapsed": true
   },
   "outputs": [],
   "source": [
    "lete_month_pre=lete_month_pre.reset_index(drop=True)\n",
    "lumle_month_pre=lumle_month_pre.reset_index(drop=True)"
   ]
  },
  {
   "cell_type": "code",
   "execution_count": 35,
   "metadata": {},
   "outputs": [
    {
     "data": {
      "text/html": [
       "<div>\n",
       "<style>\n",
       "    .dataframe thead tr:only-child th {\n",
       "        text-align: right;\n",
       "    }\n",
       "\n",
       "    .dataframe thead th {\n",
       "        text-align: left;\n",
       "    }\n",
       "\n",
       "    .dataframe tbody tr th {\n",
       "        vertical-align: top;\n",
       "    }\n",
       "</style>\n",
       "<table border=\"1\" class=\"dataframe\">\n",
       "  <thead>\n",
       "    <tr style=\"text-align: right;\">\n",
       "      <th></th>\n",
       "      <th>Discharge</th>\n",
       "      <th>prec_lete</th>\n",
       "      <th>prec_lumle</th>\n",
       "      <th>prec_pohara</th>\n",
       "    </tr>\n",
       "  </thead>\n",
       "  <tbody>\n",
       "    <tr>\n",
       "      <th>0</th>\n",
       "      <td>12.9</td>\n",
       "      <td>0.959835</td>\n",
       "      <td>1.005444</td>\n",
       "      <td>0.723593</td>\n",
       "    </tr>\n",
       "    <tr>\n",
       "      <th>1</th>\n",
       "      <td>11.4</td>\n",
       "      <td>1.986442</td>\n",
       "      <td>1.681062</td>\n",
       "      <td>1.195926</td>\n",
       "    </tr>\n",
       "    <tr>\n",
       "      <th>2</th>\n",
       "      <td>11.3</td>\n",
       "      <td>3.157984</td>\n",
       "      <td>1.988952</td>\n",
       "      <td>1.905223</td>\n",
       "    </tr>\n",
       "    <tr>\n",
       "      <th>3</th>\n",
       "      <td>13.0</td>\n",
       "      <td>3.526083</td>\n",
       "      <td>3.723333</td>\n",
       "      <td>4.156270</td>\n",
       "    </tr>\n",
       "    <tr>\n",
       "      <th>4</th>\n",
       "      <td>19.1</td>\n",
       "      <td>3.901574</td>\n",
       "      <td>10.203508</td>\n",
       "      <td>11.531221</td>\n",
       "    </tr>\n",
       "    <tr>\n",
       "      <th>5</th>\n",
       "      <td>49.8</td>\n",
       "      <td>5.431220</td>\n",
       "      <td>29.348750</td>\n",
       "      <td>21.850969</td>\n",
       "    </tr>\n",
       "    <tr>\n",
       "      <th>6</th>\n",
       "      <td>130.0</td>\n",
       "      <td>7.996617</td>\n",
       "      <td>46.615202</td>\n",
       "      <td>29.960698</td>\n",
       "    </tr>\n",
       "    <tr>\n",
       "      <th>7</th>\n",
       "      <td>147.0</td>\n",
       "      <td>7.744099</td>\n",
       "      <td>45.021573</td>\n",
       "      <td>27.277419</td>\n",
       "    </tr>\n",
       "    <tr>\n",
       "      <th>8</th>\n",
       "      <td>103.0</td>\n",
       "      <td>4.718830</td>\n",
       "      <td>28.722583</td>\n",
       "      <td>20.687093</td>\n",
       "    </tr>\n",
       "    <tr>\n",
       "      <th>9</th>\n",
       "      <td>54.5</td>\n",
       "      <td>1.853619</td>\n",
       "      <td>6.961573</td>\n",
       "      <td>5.269092</td>\n",
       "    </tr>\n",
       "    <tr>\n",
       "      <th>10</th>\n",
       "      <td>25.3</td>\n",
       "      <td>0.506375</td>\n",
       "      <td>0.892625</td>\n",
       "      <td>0.644031</td>\n",
       "    </tr>\n",
       "    <tr>\n",
       "      <th>11</th>\n",
       "      <td>16.9</td>\n",
       "      <td>0.543171</td>\n",
       "      <td>0.654187</td>\n",
       "      <td>0.608434</td>\n",
       "    </tr>\n",
       "  </tbody>\n",
       "</table>\n",
       "</div>"
      ],
      "text/plain": [
       "    Discharge  prec_lete  prec_lumle  prec_pohara\n",
       "0        12.9   0.959835    1.005444     0.723593\n",
       "1        11.4   1.986442    1.681062     1.195926\n",
       "2        11.3   3.157984    1.988952     1.905223\n",
       "3        13.0   3.526083    3.723333     4.156270\n",
       "4        19.1   3.901574   10.203508    11.531221\n",
       "5        49.8   5.431220   29.348750    21.850969\n",
       "6       130.0   7.996617   46.615202    29.960698\n",
       "7       147.0   7.744099   45.021573    27.277419\n",
       "8       103.0   4.718830   28.722583    20.687093\n",
       "9        54.5   1.853619    6.961573     5.269092\n",
       "10       25.3   0.506375    0.892625     0.644031\n",
       "11       16.9   0.543171    0.654187     0.608434"
      ]
     },
     "execution_count": 35,
     "metadata": {},
     "output_type": "execute_result"
    }
   ],
   "source": [
    "df = {'prec_pohara':pohara_month_pre['prec'],\n",
    "    'prec_lete': lete_month_pre['prec'],\n",
    "    'prec_lumle': lumle_month_pre['prec'],\n",
    "    'Discharge': dis_430_ave[0:12]}\n",
    "cor_df =pd.DataFrame(df)\n",
    "cor_df"
   ]
  },
  {
   "cell_type": "code",
   "execution_count": 36,
   "metadata": {},
   "outputs": [
    {
     "data": {
      "text/html": [
       "<div>\n",
       "<style>\n",
       "    .dataframe thead tr:only-child th {\n",
       "        text-align: right;\n",
       "    }\n",
       "\n",
       "    .dataframe thead th {\n",
       "        text-align: left;\n",
       "    }\n",
       "\n",
       "    .dataframe tbody tr th {\n",
       "        vertical-align: top;\n",
       "    }\n",
       "</style>\n",
       "<table border=\"1\" class=\"dataframe\">\n",
       "  <thead>\n",
       "    <tr style=\"text-align: right;\">\n",
       "      <th></th>\n",
       "      <th>Discharge</th>\n",
       "      <th>prec_lete</th>\n",
       "      <th>prec_lumle</th>\n",
       "      <th>prec_pohara</th>\n",
       "    </tr>\n",
       "  </thead>\n",
       "  <tbody>\n",
       "    <tr>\n",
       "      <th>Discharge</th>\n",
       "      <td>1.000000</td>\n",
       "      <td>0.821320</td>\n",
       "      <td>0.936700</td>\n",
       "      <td>0.894414</td>\n",
       "    </tr>\n",
       "    <tr>\n",
       "      <th>prec_lete</th>\n",
       "      <td>0.821320</td>\n",
       "      <td>1.000000</td>\n",
       "      <td>0.936326</td>\n",
       "      <td>0.942924</td>\n",
       "    </tr>\n",
       "    <tr>\n",
       "      <th>prec_lumle</th>\n",
       "      <td>0.936700</td>\n",
       "      <td>0.936326</td>\n",
       "      <td>1.000000</td>\n",
       "      <td>0.988314</td>\n",
       "    </tr>\n",
       "    <tr>\n",
       "      <th>prec_pohara</th>\n",
       "      <td>0.894414</td>\n",
       "      <td>0.942924</td>\n",
       "      <td>0.988314</td>\n",
       "      <td>1.000000</td>\n",
       "    </tr>\n",
       "  </tbody>\n",
       "</table>\n",
       "</div>"
      ],
      "text/plain": [
       "             Discharge  prec_lete  prec_lumle  prec_pohara\n",
       "Discharge     1.000000   0.821320    0.936700     0.894414\n",
       "prec_lete     0.821320   1.000000    0.936326     0.942924\n",
       "prec_lumle    0.936700   0.936326    1.000000     0.988314\n",
       "prec_pohara   0.894414   0.942924    0.988314     1.000000"
      ]
     },
     "execution_count": 36,
     "metadata": {},
     "output_type": "execute_result"
    }
   ],
   "source": [
    "cor_df.corr()"
   ]
  },
  {
   "cell_type": "code",
   "execution_count": 37,
   "metadata": {},
   "outputs": [],
   "source": [
    "dis_pre_lum = smf.ols(formula='Discharge ~ prec_lumle',data=cor_df).fit()"
   ]
  },
  {
   "cell_type": "code",
   "execution_count": 38,
   "metadata": {},
   "outputs": [
    {
     "data": {
      "text/plain": [
       "0.8774061265437594"
      ]
     },
     "metadata": {},
     "output_type": "display_data"
    }
   ],
   "source": [
    "r2_dis_pre_lum =dis_pre_lum.rsquared\n",
    "display(r2_dis_pre_lum)"
   ]
  },
  {
   "cell_type": "code",
   "execution_count": 39,
   "metadata": {},
   "outputs": [],
   "source": [
    "alpha_lum = dis_pre_lum.params[0]\n",
    "beta_lum = dis_pre_lum.params[1]\n",
    "\n",
    "dis_pre_lum_calc = alpha_lum + beta_lum*cor_df['prec_lumle']"
   ]
  },
  {
   "cell_type": "code",
   "execution_count": 40,
   "metadata": {},
   "outputs": [
    {
     "name": "stdout",
     "output_type": "stream",
     "text": [
      "r-squared is: 0.877\n",
      "Regression equation: y = 10.919 + 2.619*X(pre_lumle)\n"
     ]
    }
   ],
   "source": [
    "print('r-squared is: ' +str(r2_dis_pre_lum.round(3)))\n",
    "print('Regression equation: y = {} + {}*X(pre_lumle)'.format(alpha_lum.round(3),(beta_lum.round(3))))"
   ]
  },
  {
   "cell_type": "markdown",
   "metadata": {},
   "source": [
    "### Add one more independent variable that has higher partial correlation with the dependent (X(pre_pohara)"
   ]
  },
  {
   "cell_type": "code",
   "execution_count": 41,
   "metadata": {
    "collapsed": true
   },
   "outputs": [],
   "source": [
    "dis_pre_lum_poha = smf.ols(formula='Discharge ~ prec_lumle+prec_pohara',data=cor_df).fit()"
   ]
  },
  {
   "cell_type": "code",
   "execution_count": 42,
   "metadata": {},
   "outputs": [
    {
     "data": {
      "text/plain": [
       "0.9196776878713828"
      ]
     },
     "metadata": {},
     "output_type": "display_data"
    }
   ],
   "source": [
    "r2_dis_pre_lum_poha =dis_pre_lum_poha.rsquared\n",
    "display(r2_dis_pre_lum_poha)"
   ]
  },
  {
   "cell_type": "code",
   "execution_count": 44,
   "metadata": {},
   "outputs": [],
   "source": [
    "alpha_lum_poha = dis_pre_lum_poha.params[0]\n",
    "beta_lum = dis_pre_lum_poha.params[1]\n",
    "beta_poha = dis_pre_lum_poha.params[2]\n",
    "\n",
    "\n",
    "dis_pre_lum_poha_calc = alpha_lum + beta_lum*cor_df['prec_lumle'] + beta_poha*cor_df['prec_pohara']"
   ]
  },
  {
   "cell_type": "code",
   "execution_count": 46,
   "metadata": {},
   "outputs": [
    {
     "name": "stdout",
     "output_type": "stream",
     "text": [
      "r-squared is: 0.877\n",
      "Regression equation: y = 10.919 + 6.347*X(pre_lumle) + -5.9*X(pre_pohara)\n"
     ]
    }
   ],
   "source": [
    "print('r-squared is: ' +str(r2_dis_pre_lum.round(3)))\n",
    "print('Regression equation: y = {} + {}*X(pre_lumle) + {}*X(pre_pohara)'.format(alpha_lum.round(3),(beta_lum.round(3)),(beta_poha.round(3))))"
   ]
  },
  {
   "cell_type": "code",
   "execution_count": null,
   "metadata": {
    "collapsed": true
   },
   "outputs": [],
   "source": []
  },
  {
   "cell_type": "code",
   "execution_count": null,
   "metadata": {
    "collapsed": true
   },
   "outputs": [],
   "source": []
  },
  {
   "cell_type": "markdown",
   "metadata": {},
   "source": [
    "#### F-test"
   ]
  },
  {
   "cell_type": "code",
   "execution_count": 62,
   "metadata": {},
   "outputs": [
    {
     "data": {
      "text/plain": [
       "1.717"
      ]
     },
     "metadata": {},
     "output_type": "display_data"
    },
    {
     "data": {
      "text/plain": [
       "3.388"
      ]
     },
     "metadata": {},
     "output_type": "display_data"
    }
   ],
   "source": [
    "N=len(cor_df['Discharge'])\n",
    "n = 2\n",
    "a = 0.05\n",
    "\n",
    "F_c = ((1-r2_dis_pre_lum)*(N-n-1))/((1-r2_dis_pre_lum_poha)*(N-n-2))\n",
    "\n",
    "F_value = stats.f.ppf(1-a,N-n-1,N-n-2)\n",
    "\n",
    "#display(N)\n",
    "display(F_c.round(3))\n",
    "display(F_value.round(3))"
   ]
  },
  {
   "cell_type": "markdown",
   "metadata": {},
   "source": [
    "The F-test shows that, $F_c$ < $F_{1-\\alpha,N-n-1,N-n-2} \\rightarrow$ 1.717 < 3.388, and therefore is the addition of the independent variable precipitation for Pohara not significant. And we stop our multiple regression."
   ]
  },
  {
   "cell_type": "code",
   "execution_count": 61,
   "metadata": {},
   "outputs": [
    {
     "data": {
      "image/png": "[encoded data removed]",
      "text/plain": [
       "<matplotlib.figure.Figure at 0x1830ef96198>"
      ]
     },
     "metadata": {},
     "output_type": "display_data"
    }
   ],
   "source": [
    "label = ['Jan','Feb','Mar','Apr','May','Jun','Jul','Aug','Sep','Oct','Nov','Dec']\n",
    "x = np.arange(13)\n",
    "\n",
    "plt.figure(figsize=(15,5))\n",
    "\n",
    "plt.suptitle('Figures for the two step in the Multiple linear regression ', size=16)\n",
    "\n",
    "alpha_lum = dis_pre_lum.params[0]\n",
    "beta_lum = dis_pre_lum.params[1]\n",
    "\n",
    "plt.subplot(121)\n",
    "plt.title('Regression equation: y = {} + {}*X(pre_lumle)'.format(alpha_lum.round(3),(beta_lum.round(3))), size = 9)\n",
    "plt.plot(dis_pre_lum_calc,label='Regression line')\n",
    "plt.plot(cor_df['Discharge'],label='Observed data')\n",
    "plt.ylabel('Discharge', size = 12)\n",
    "plt.xticks(x,label)\n",
    "plt.legend()\n",
    "plt.grid(True)\n",
    "\n",
    "alpha_lum_poha = dis_pre_lum_poha.params[0]\n",
    "beta_lum = dis_pre_lum_poha.params[1]\n",
    "beta_poha = dis_pre_lum_poha.params[2]\n",
    "\n",
    "plt.subplot(122)\n",
    "plt.title('Regression equation: y = {} + {}*X(pre_lumle) + {}*X(pre_pohara)'.format(alpha_lum.round(3),(beta_lum.round(3)),(beta_poha.round(3))),size =9)\n",
    "plt.plot(dis_pre_lum_poha_calc,label='Regression line')\n",
    "plt.plot(cor_df['Discharge'],label='Observed data')\n",
    "plt.ylabel('Discharge', size = 12)\n",
    "plt.xticks(x,label)\n",
    "plt.legend()\n",
    "plt.grid(True)\n",
    "\n",
    "#plt.subplot(133)\n",
    "#plt.title('Regression equation: y = {} + {}*X1'.format(alpha_pre.round(3),(beta_pre.round(3))))\n",
    "#plt.plot(dis_pre_lum_calc,label='Regression line')\n",
    "#plt.plot(cor_df['Discharge'],label='Observed data')\n",
    "#plt.legend()\n",
    "#plt.grid(True)"
   ]
  },
  {
   "cell_type": "code",
   "execution_count": null,
   "metadata": {
    "collapsed": true
   },
   "outputs": [],
   "source": []
  },
  {
   "cell_type": "code",
   "execution_count": null,
   "metadata": {
    "collapsed": true
   },
   "outputs": [],
   "source": []
  },
  {
   "cell_type": "code",
   "execution_count": null,
   "metadata": {
    "collapsed": true
   },
   "outputs": [],
   "source": []
  },
  {
   "cell_type": "code",
   "execution_count": null,
   "metadata": {
    "collapsed": true
   },
   "outputs": [],
   "source": []
  }
 ],
 "metadata": {
  "kernelspec": {
   "display_name": "Python 3",
   "language": "python",
   "name": "python3"
  },
  "language_info": {
   "codemirror_mode": {
    "name": "ipython",
    "version": 3
   },
   "file_extension": ".py",
   "mimetype": "text/x-python",
   "name": "python",
   "nbconvert_exporter": "python",
   "pygments_lexer": "ipython3",
   "version": "3.6.3"
  }
 },
 "nbformat": 4,
 "nbformat_minor": 2
}
